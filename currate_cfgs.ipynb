{
 "cells": [
  {
   "cell_type": "code",
   "execution_count": 1,
   "metadata": {},
   "outputs": [],
   "source": [
    "import os\n",
    "import angr\n",
    "import monkeyhex\n",
    "from tqdm.notebook import tqdm\n",
    "\n",
    "import networkx as nx\n",
    "import scipy as sp\n",
    "import numpy as np\n",
    "\n",
    "import pickle\n",
    "\n",
    "import matplotlib.pyplot as plt\n",
    "import pprint"
   ]
  },
  {
   "cell_type": "code",
   "execution_count": 2,
   "metadata": {},
   "outputs": [],
   "source": [
    "utilnames=[\"cat\",\"chgrp\",\"chmod\",\"chown\",\"cp\",\"date\",\"dd\",\"df\",\"dmesg\",\"echo\",\"false\",\"hostname\",\"kill\",\"ln\",\"login\",\"ls\",\"mkdir\",\"mknod\",\"more\",\"mount\",\"mv\",\"ps\",\"pwd\",\"rm\",\"rmdir\",\"sed\",\"sh\",\"stty\",\"su\",\"sync\",\"true\",\"umount\",\"uname\",\"Utility\",\"to\",\"print\",\"system\",\"information\"]"
   ]
  },
  {
   "cell_type": "code",
   "execution_count": 3,
   "metadata": {},
   "outputs": [],
   "source": [
    "def get_cfg_nx(path, **kwargs):\n",
    "    try:\n",
    "        proj = angr.Project(path,\n",
    "                          load_options={'auto_load_libs': False})\n",
    "    except:\n",
    "        return 0\n",
    "\n",
    "    tqdm.write(proj.filename)\n",
    "    cfg = proj.analyses.CFGFast()\n",
    "    tqdm.write(\"%d nodes, %d edges\" % (len(cfg.graph.nodes()), len(cfg.graph.edges())))\n",
    "    G = cfg.graph\n",
    "    return G"
   ]
  },
  {
   "cell_type": "code",
   "execution_count": 21,
   "metadata": {},
   "outputs": [
    {
     "name": "stdout",
     "output_type": "stream",
     "text": [
      "#include <stdio.h>\r\n",
      "int main() {\r\n",
      "   // printf() displays the string inside quotation\r\n",
      "   printf(\"Hello, World!\");\r\n",
      "   int hello = 1;\r\n",
      "   if (hello == 1){\r\n",
      "   \treturn 0;\r\n",
      "   } else {\r\n",
      "\treturn 1;\r\n",
      "   }\r\n",
      "}\r\n"
     ]
    },
    {
     "name": "stderr",
     "output_type": "stream",
     "text": [
      "WARNING | 2021-05-06 01:09:32,270 | \u001b[36mcle.loader\u001b[0m | \u001b[36mThe main binary is a position-independent executable. It is being loaded with a base address of 0x400000.\u001b[0m\n",
      "WARNING | 2021-05-06 01:09:32,273 | \u001b[37mangr.analyses.cfg.cfg_base\u001b[0m | \u001b[37m_is_region_extremely_sparse: The given region 0x4011d4-0x4011dd is not a continuous memory region in the memory space. Only the first 9 bytes (0x4011d4-0x4011dc) are processed.\u001b[0m\n"
     ]
    },
    {
     "name": "stdout",
     "output_type": "stream",
     "text": [
      "./hello_world\n",
      "52 nodes, 59 edges\n"
     ]
    },
    {
     "data": {
      "image/png": "[encoded data removed]",
      "text/plain": [
       "<Figure size 432x288 with 1 Axes>"
      ]
     },
     "metadata": {},
     "output_type": "display_data"
    }
   ],
   "source": [
    "!cat ./hello_world.c\n",
    "G = get_cfg_nx('./hello_world')\n",
    "nx.draw(G)"
   ]
  },
  {
   "cell_type": "code",
   "execution_count": 4,
   "metadata": {},
   "outputs": [
    {
     "data": {
      "application/vnd.jupyter.widget-view+json": {
       "model_id": "ab554876f03e48aaa53861ac33bbaf01",
       "version_major": 2,
       "version_minor": 0
      },
      "text/plain": [
       "HBox(children=(FloatProgress(value=0.0, max=38.0), HTML(value='')))"
      ]
     },
     "metadata": {},
     "output_type": "display_data"
    },
    {
     "name": "stderr",
     "output_type": "stream",
     "text": [
      "WARNING | 2021-05-05 23:55:35,271 | \u001b[36mcle.loader\u001b[0m | \u001b[36mThe main binary is a position-independent executable. It is being loaded with a base address of 0x400000.\u001b[0m\n",
      "WARNING | 2021-05-05 23:55:35,278 | \u001b[37mangr.analyses.cfg.cfg_base\u001b[0m | \u001b[37m_is_region_extremely_sparse: The given region 0x406180-0x406189 is not a continuous memory region in the memory space. Only the first 9 bytes (0x406180-0x406188) are processed.\u001b[0m\n"
     ]
    },
    {
     "name": "stdout",
     "output_type": "stream",
     "text": [
      "/bin/cat\n",
      "1313 nodes, 2186 edges\n"
     ]
    },
    {
     "name": "stderr",
     "output_type": "stream",
     "text": [
      "WARNING | 2021-05-05 23:55:36,339 | \u001b[36mcle.loader\u001b[0m | \u001b[36mThe main binary is a position-independent executable. It is being loaded with a base address of 0x400000.\u001b[0m\n",
      "WARNING | 2021-05-05 23:55:36,346 | \u001b[37mangr.analyses.cfg.cfg_base\u001b[0m | \u001b[37m_is_region_extremely_sparse: The given region 0x40abf0-0x40abf9 is not a continuous memory region in the memory space. Only the first 9 bytes (0x40abf0-0x40abf8) are processed.\u001b[0m\n"
     ]
    },
    {
     "name": "stdout",
     "output_type": "stream",
     "text": [
      "/bin/chgrp\n",
      "3026 nodes, 5218 edges\n"
     ]
    },
    {
     "name": "stderr",
     "output_type": "stream",
     "text": [
      "WARNING | 2021-05-05 23:55:39,334 | \u001b[36mcle.loader\u001b[0m | \u001b[36mThe main binary is a position-independent executable. It is being loaded with a base address of 0x400000.\u001b[0m\n",
      "WARNING | 2021-05-05 23:55:39,340 | \u001b[37mangr.analyses.cfg.cfg_base\u001b[0m | \u001b[37m_is_region_extremely_sparse: The given region 0x40a560-0x40a569 is not a continuous memory region in the memory space. Only the first 9 bytes (0x40a560-0x40a568) are processed.\u001b[0m\n"
     ]
    },
    {
     "name": "stdout",
     "output_type": "stream",
     "text": [
      "/bin/chmod\n",
      "2821 nodes, 4865 edges\n"
     ]
    },
    {
     "name": "stderr",
     "output_type": "stream",
     "text": [
      "WARNING | 2021-05-05 23:55:42,473 | \u001b[36mcle.loader\u001b[0m | \u001b[36mThe main binary is a position-independent executable. It is being loaded with a base address of 0x400000.\u001b[0m\n",
      "WARNING | 2021-05-05 23:55:42,480 | \u001b[37mangr.analyses.cfg.cfg_base\u001b[0m | \u001b[37m_is_region_extremely_sparse: The given region 0x40b0c0-0x40b0c9 is not a continuous memory region in the memory space. Only the first 9 bytes (0x40b0c0-0x40b0c8) are processed.\u001b[0m\n"
     ]
    },
    {
     "name": "stdout",
     "output_type": "stream",
     "text": [
      "/bin/chown\n",
      "3138 nodes, 5434 edges\n"
     ]
    },
    {
     "name": "stderr",
     "output_type": "stream",
     "text": [
      "WARNING | 2021-05-05 23:55:45,733 | \u001b[36mcle.loader\u001b[0m | \u001b[36mThe main binary is a position-independent executable. It is being loaded with a base address of 0x400000.\u001b[0m\n",
      "WARNING | 2021-05-05 23:55:45,744 | \u001b[37mangr.analyses.cfg.cfg_base\u001b[0m | \u001b[37m_is_region_extremely_sparse: The given region 0x41a5b0-0x41a5b9 is not a continuous memory region in the memory space. Only the first 9 bytes (0x41a5b0-0x41a5b8) are processed.\u001b[0m\n"
     ]
    },
    {
     "name": "stdout",
     "output_type": "stream",
     "text": [
      "/bin/cp\n",
      "7151 nodes, 12848 edges\n"
     ]
    },
    {
     "name": "stderr",
     "output_type": "stream",
     "text": [
      "WARNING | 2021-05-05 23:55:57,433 | \u001b[36mcle.loader\u001b[0m | \u001b[36mThe main binary is a position-independent executable. It is being loaded with a base address of 0x400000.\u001b[0m\n",
      "WARNING | 2021-05-05 23:55:57,441 | \u001b[37mangr.analyses.cfg.cfg_base\u001b[0m | \u001b[37m_is_region_extremely_sparse: The given region 0x412850-0x412859 is not a continuous memory region in the memory space. Only the first 9 bytes (0x412850-0x412858) are processed.\u001b[0m\n"
     ]
    },
    {
     "name": "stdout",
     "output_type": "stream",
     "text": [
      "/bin/date\n",
      "4109 nodes, 7467 edges\n"
     ]
    },
    {
     "name": "stderr",
     "output_type": "stream",
     "text": [
      "WARNING | 2021-05-05 23:56:02,649 | \u001b[31mcle.backends.externs\u001b[0m | \u001b[31mSymbol was allocated without a known size; emulation may fail if it is used non-opaquely: opterr\u001b[0m\n",
      "WARNING | 2021-05-05 23:56:02,651 | \u001b[36mcle.loader\u001b[0m | \u001b[36mThe main binary is a position-independent executable. It is being loaded with a base address of 0x400000.\u001b[0m\n",
      "WARNING | 2021-05-05 23:56:02,651 | \u001b[36mcle.loader\u001b[0m | \u001b[36mFor more information about \"Symbol was allocated without a known size\", see https://docs.angr.io/extending-angr/environment#simdata\u001b[0m\n",
      "WARNING | 2021-05-05 23:56:02,658 | \u001b[37mangr.analyses.cfg.cfg_base\u001b[0m | \u001b[37m_is_region_extremely_sparse: The given region 0x40cbd0-0x40cbd9 is not a continuous memory region in the memory space. Only the first 9 bytes (0x40cbd0-0x40cbd8) are processed.\u001b[0m\n"
     ]
    },
    {
     "name": "stdout",
     "output_type": "stream",
     "text": [
      "/bin/dd\n",
      "3388 nodes, 6041 edges\n"
     ]
    },
    {
     "name": "stderr",
     "output_type": "stream",
     "text": [
      "WARNING | 2021-05-05 23:56:06,626 | \u001b[36mcle.loader\u001b[0m | \u001b[36mThe main binary is a position-independent executable. It is being loaded with a base address of 0x400000.\u001b[0m\n",
      "WARNING | 2021-05-05 23:56:06,634 | \u001b[37mangr.analyses.cfg.cfg_base\u001b[0m | \u001b[37m_is_region_extremely_sparse: The given region 0x4100a0-0x4100a9 is not a continuous memory region in the memory space. Only the first 9 bytes (0x4100a0-0x4100a8) are processed.\u001b[0m\n"
     ]
    },
    {
     "name": "stdout",
     "output_type": "stream",
     "text": [
      "\r",
      "/bin/df\n"
     ]
    },
    {
     "name": "stderr",
     "output_type": "stream",
     "text": [
      "WARNING | 2021-05-05 23:56:09,931 | \u001b[34mangr.analyses.cfg.cfg_fast\u001b[0m | \u001b[34mNo CFGNode is found for function 0x405276 in _make_return_edges().\u001b[0m\n"
     ]
    },
    {
     "name": "stdout",
     "output_type": "stream",
     "text": [
      "\r",
      "4296 nodes, 7454 edges\n"
     ]
    },
    {
     "name": "stderr",
     "output_type": "stream",
     "text": [
      "WARNING | 2021-05-05 23:56:12,760 | \u001b[36mcle.loader\u001b[0m | \u001b[36mThe main binary is a position-independent executable. It is being loaded with a base address of 0x400000.\u001b[0m\n",
      "WARNING | 2021-05-05 23:56:12,771 | \u001b[37mangr.analyses.cfg.cfg_base\u001b[0m | \u001b[37m_is_region_extremely_sparse: The given region 0x40c510-0x40c519 is not a continuous memory region in the memory space. Only the first 9 bytes (0x40c510-0x40c518) are processed.\u001b[0m\n"
     ]
    },
    {
     "name": "stdout",
     "output_type": "stream",
     "text": [
      "/bin/dmesg\n",
      "2782 nodes, 4822 edges\n"
     ]
    },
    {
     "name": "stderr",
     "output_type": "stream",
     "text": [
      "WARNING | 2021-05-05 23:56:16,986 | \u001b[36mcle.loader\u001b[0m | \u001b[36mThe main binary is a position-independent executable. It is being loaded with a base address of 0x400000.\u001b[0m\n",
      "WARNING | 2021-05-05 23:56:16,991 | \u001b[37mangr.analyses.cfg.cfg_base\u001b[0m | \u001b[37m_is_region_extremely_sparse: The given region 0x405900-0x405909 is not a continuous memory region in the memory space. Only the first 9 bytes (0x405900-0x405908) are processed.\u001b[0m\n"
     ]
    },
    {
     "name": "stdout",
     "output_type": "stream",
     "text": [
      "\r",
      "/bin/echo\n"
     ]
    },
    {
     "name": "stderr",
     "output_type": "stream",
     "text": [
      "WARNING | 2021-05-05 23:56:18,760 | \u001b[36mcle.loader\u001b[0m | \u001b[36mThe main binary is a position-independent executable. It is being loaded with a base address of 0x400000.\u001b[0m\n",
      "WARNING | 2021-05-05 23:56:18,765 | \u001b[37mangr.analyses.cfg.cfg_base\u001b[0m | \u001b[37m_is_region_extremely_sparse: The given region 0x4052d0-0x4052d9 is not a continuous memory region in the memory space. Only the first 9 bytes (0x4052d0-0x4052d8) are processed.\u001b[0m\n"
     ]
    },
    {
     "name": "stdout",
     "output_type": "stream",
     "text": [
      "\r",
      "1143 nodes, 1872 edges\n",
      "\r",
      "/bin/false\n"
     ]
    },
    {
     "name": "stderr",
     "output_type": "stream",
     "text": [
      "WARNING | 2021-05-05 23:56:19,658 | \u001b[36mcle.loader\u001b[0m | \u001b[36mThe main binary is a position-independent executable. It is being loaded with a base address of 0x400000.\u001b[0m\n",
      "WARNING | 2021-05-05 23:56:19,664 | \u001b[37mangr.analyses.cfg.cfg_base\u001b[0m | \u001b[37m_is_region_extremely_sparse: The given region 0x403034-0x40303d is not a continuous memory region in the memory space. Only the first 9 bytes (0x403034-0x40303c) are processed.\u001b[0m\n"
     ]
    },
    {
     "name": "stdout",
     "output_type": "stream",
     "text": [
      "\r",
      "1008 nodes, 1622 edges\n",
      "\r",
      "/bin/hostname\n"
     ]
    },
    {
     "name": "stderr",
     "output_type": "stream",
     "text": [
      "WARNING | 2021-05-05 23:56:20,728 | \u001b[31mcle.backends.externs\u001b[0m | \u001b[31mSymbol was allocated without a known size; emulation may fail if it is used non-opaquely: optopt\u001b[0m\n",
      "WARNING | 2021-05-05 23:56:20,730 | \u001b[31mcle.backends.externs\u001b[0m | \u001b[31mSymbol was allocated without a known size; emulation may fail if it is used non-opaquely: opterr\u001b[0m\n",
      "WARNING | 2021-05-05 23:56:20,734 | \u001b[36mcle.loader\u001b[0m | \u001b[36mThe main binary is a position-independent executable. It is being loaded with a base address of 0x400000.\u001b[0m\n",
      "WARNING | 2021-05-05 23:56:20,736 | \u001b[36mcle.loader\u001b[0m | \u001b[36mFor more information about \"Symbol was allocated without a known size\", see https://docs.angr.io/extending-angr/environment#simdata\u001b[0m\n"
     ]
    },
    {
     "name": "stdout",
     "output_type": "stream",
     "text": [
      "\r",
      "466 nodes, 716 edges\n",
      "\r",
      "/bin/kill\n"
     ]
    },
    {
     "name": "stderr",
     "output_type": "stream",
     "text": [
      "WARNING | 2021-05-05 23:56:21,939 | \u001b[36mcle.loader\u001b[0m | \u001b[36mThe main binary is a position-independent executable. It is being loaded with a base address of 0x400000.\u001b[0m\n",
      "WARNING | 2021-05-05 23:56:21,947 | \u001b[37mangr.analyses.cfg.cfg_base\u001b[0m | \u001b[37m_is_region_extremely_sparse: The given region 0x40ae80-0x40ae89 is not a continuous memory region in the memory space. Only the first 9 bytes (0x40ae80-0x40ae88) are processed.\u001b[0m\n"
     ]
    },
    {
     "name": "stdout",
     "output_type": "stream",
     "text": [
      "776 nodes, 1379 edges\n",
      "/bin/ln\n",
      "2933 nodes, 5014 edges\n"
     ]
    },
    {
     "name": "stderr",
     "output_type": "stream",
     "text": [
      "WARNING | 2021-05-05 23:56:24,948 | \u001b[36mcle.loader\u001b[0m | \u001b[36mThe main binary is a position-independent executable. It is being loaded with a base address of 0x400000.\u001b[0m\n",
      "WARNING | 2021-05-05 23:56:24,958 | \u001b[37mangr.analyses.cfg.cfg_base\u001b[0m | \u001b[37m_is_region_extremely_sparse: The given region 0x409194-0x40919d is not a continuous memory region in the memory space. Only the first 9 bytes (0x409194-0x40919c) are processed.\u001b[0m\n"
     ]
    },
    {
     "name": "stdout",
     "output_type": "stream",
     "text": [
      "/bin/login\n",
      "2218 nodes, 4222 edges\n"
     ]
    },
    {
     "name": "stderr",
     "output_type": "stream",
     "text": [
      "WARNING | 2021-05-05 23:56:27,422 | \u001b[36mcle.loader\u001b[0m | \u001b[36mThe main binary is a position-independent executable. It is being loaded with a base address of 0x400000.\u001b[0m\n",
      "WARNING | 2021-05-05 23:56:27,432 | \u001b[37mangr.analyses.cfg.cfg_base\u001b[0m | \u001b[37m_is_region_extremely_sparse: The given region 0x416cb0-0x416cb9 is not a continuous memory region in the memory space. Only the first 9 bytes (0x416cb0-0x416cb8) are processed.\u001b[0m\n"
     ]
    },
    {
     "name": "stdout",
     "output_type": "stream",
     "text": [
      "/bin/ls\n",
      "6247 nodes, 10621 edges\n"
     ]
    },
    {
     "name": "stderr",
     "output_type": "stream",
     "text": [
      "WARNING | 2021-05-05 23:56:38,586 | \u001b[36mcle.loader\u001b[0m | \u001b[36mThe main binary is a position-independent executable. It is being loaded with a base address of 0x400000.\u001b[0m\n",
      "WARNING | 2021-05-05 23:56:38,594 | \u001b[37mangr.analyses.cfg.cfg_base\u001b[0m | \u001b[37m_is_region_extremely_sparse: The given region 0x40f2e0-0x40f2e9 is not a continuous memory region in the memory space. Only the first 9 bytes (0x40f2e0-0x40f2e8) are processed.\u001b[0m\n"
     ]
    },
    {
     "name": "stdout",
     "output_type": "stream",
     "text": [
      "/bin/mkdir\n",
      "4266 nodes, 7343 edges\n"
     ]
    },
    {
     "name": "stderr",
     "output_type": "stream",
     "text": [
      "WARNING | 2021-05-05 23:56:45,460 | \u001b[36mcle.loader\u001b[0m | \u001b[36mThe main binary is a position-independent executable. It is being loaded with a base address of 0x400000.\u001b[0m\n",
      "WARNING | 2021-05-05 23:56:45,468 | \u001b[37mangr.analyses.cfg.cfg_base\u001b[0m | \u001b[37m_is_region_extremely_sparse: The given region 0x40b850-0x40b859 is not a continuous memory region in the memory space. Only the first 9 bytes (0x40b850-0x40b858) are processed.\u001b[0m\n"
     ]
    },
    {
     "name": "stdout",
     "output_type": "stream",
     "text": [
      "/bin/mknod\n",
      "3363 nodes, 5805 edges\n"
     ]
    },
    {
     "name": "stderr",
     "output_type": "stream",
     "text": [
      "WARNING | 2021-05-05 23:56:51,364 | \u001b[36mcle.loader\u001b[0m | \u001b[36mThe main binary is a position-independent executable. It is being loaded with a base address of 0x400000.\u001b[0m\n",
      "WARNING | 2021-05-05 23:56:51,371 | \u001b[37mangr.analyses.cfg.cfg_base\u001b[0m | \u001b[37m_is_region_extremely_sparse: The given region 0x4073a0-0x4073a9 is not a continuous memory region in the memory space. Only the first 9 bytes (0x4073a0-0x4073a8) are processed.\u001b[0m\n"
     ]
    },
    {
     "name": "stdout",
     "output_type": "stream",
     "text": [
      "/bin/more\n",
      "1738 nodes, 3181 edges\n"
     ]
    },
    {
     "name": "stderr",
     "output_type": "stream",
     "text": [
      "WARNING | 2021-05-05 23:56:53,557 | \u001b[36mcle.loader\u001b[0m | \u001b[36mThe main binary is a position-independent executable. It is being loaded with a base address of 0x400000.\u001b[0m\n",
      "WARNING | 2021-05-05 23:56:53,724 | \u001b[37mangr.analyses.cfg.cfg_base\u001b[0m | \u001b[37m_is_region_extremely_sparse: The given region 0x407980-0x407989 is not a continuous memory region in the memory space. Only the first 9 bytes (0x407980-0x407988) are processed.\u001b[0m\n"
     ]
    },
    {
     "name": "stdout",
     "output_type": "stream",
     "text": [
      "/bin/mount\n",
      "1831 nodes, 3052 edges\n"
     ]
    },
    {
     "name": "stderr",
     "output_type": "stream",
     "text": [
      "WARNING | 2021-05-05 23:56:57,426 | \u001b[36mcle.loader\u001b[0m | \u001b[36mThe main binary is a position-independent executable. It is being loaded with a base address of 0x400000.\u001b[0m\n",
      "WARNING | 2021-05-05 23:56:57,437 | \u001b[37mangr.analyses.cfg.cfg_base\u001b[0m | \u001b[37m_is_region_extremely_sparse: The given region 0x4197e0-0x4197e9 is not a continuous memory region in the memory space. Only the first 9 bytes (0x4197e0-0x4197e8) are processed.\u001b[0m\n"
     ]
    },
    {
     "name": "stdout",
     "output_type": "stream",
     "text": [
      "/bin/mv\n",
      "7285 nodes, 13087 edges\n"
     ]
    },
    {
     "name": "stderr",
     "output_type": "stream",
     "text": [
      "WARNING | 2021-05-05 23:57:09,248 | \u001b[31mcle.backends.externs\u001b[0m | \u001b[31mSymbol was allocated without a known size; emulation may fail if it is used non-opaquely: numa_node_of_cpu\u001b[0m\n",
      "WARNING | 2021-05-05 23:57:09,249 | \u001b[31mcle.backends.externs\u001b[0m | \u001b[31mSymbol was allocated without a known size; emulation may fail if it is used non-opaquely: Hertz\u001b[0m\n",
      "WARNING | 2021-05-05 23:57:09,249 | \u001b[31mcle.backends.externs\u001b[0m | \u001b[31mSymbol was allocated without a known size; emulation may fail if it is used non-opaquely: kb_main_total\u001b[0m\n",
      "WARNING | 2021-05-05 23:57:09,251 | \u001b[36mcle.loader\u001b[0m | \u001b[36mThe main binary is a position-independent executable. It is being loaded with a base address of 0x400000.\u001b[0m\n",
      "WARNING | 2021-05-05 23:57:09,255 | \u001b[36mcle.loader\u001b[0m | \u001b[36mFor more information about \"Symbol was allocated without a known size\", see https://docs.angr.io/extending-angr/environment#simdata\u001b[0m\n"
     ]
    },
    {
     "name": "stdout",
     "output_type": "stream",
     "text": [
      "/bin/ps\n",
      "3709 nodes, 6272 edges\n"
     ]
    },
    {
     "name": "stderr",
     "output_type": "stream",
     "text": [
      "WARNING | 2021-05-05 23:57:16,436 | \u001b[36mcle.loader\u001b[0m | \u001b[36mThe main binary is a position-independent executable. It is being loaded with a base address of 0x400000.\u001b[0m\n",
      "WARNING | 2021-05-05 23:57:16,442 | \u001b[37mangr.analyses.cfg.cfg_base\u001b[0m | \u001b[37m_is_region_extremely_sparse: The given region 0x405d30-0x405d39 is not a continuous memory region in the memory space. Only the first 9 bytes (0x405d30-0x405d38) are processed.\u001b[0m\n"
     ]
    },
    {
     "name": "stdout",
     "output_type": "stream",
     "text": [
      "\r",
      "/bin/pwd\n"
     ]
    },
    {
     "name": "stderr",
     "output_type": "stream",
     "text": [
      "WARNING | 2021-05-05 23:57:17,769 | \u001b[36mcle.loader\u001b[0m | \u001b[36mThe main binary is a position-independent executable. It is being loaded with a base address of 0x400000.\u001b[0m\n",
      "WARNING | 2021-05-05 23:57:17,776 | \u001b[37mangr.analyses.cfg.cfg_base\u001b[0m | \u001b[37m_is_region_extremely_sparse: The given region 0x40aff0-0x40aff9 is not a continuous memory region in the memory space. Only the first 9 bytes (0x40aff0-0x40aff8) are processed.\u001b[0m\n"
     ]
    },
    {
     "name": "stdout",
     "output_type": "stream",
     "text": [
      "1234 nodes, 2061 edges\n",
      "/bin/rm\n",
      "3106 nodes, 5388 edges\n"
     ]
    },
    {
     "name": "stderr",
     "output_type": "stream",
     "text": [
      "WARNING | 2021-05-05 23:57:22,256 | \u001b[36mcle.loader\u001b[0m | \u001b[36mThe main binary is a position-independent executable. It is being loaded with a base address of 0x400000.\u001b[0m\n",
      "WARNING | 2021-05-05 23:57:22,262 | \u001b[37mangr.analyses.cfg.cfg_base\u001b[0m | \u001b[37m_is_region_extremely_sparse: The given region 0x407af0-0x407af9 is not a continuous memory region in the memory space. Only the first 9 bytes (0x407af0-0x407af8) are processed.\u001b[0m\n"
     ]
    },
    {
     "name": "stdout",
     "output_type": "stream",
     "text": [
      "/bin/rmdir\n",
      "1826 nodes, 3070 edges\n"
     ]
    },
    {
     "name": "stderr",
     "output_type": "stream",
     "text": [
      "WARNING | 2021-05-05 23:57:24,271 | \u001b[36mcle.loader\u001b[0m | \u001b[36mThe main binary is a position-independent executable. It is being loaded with a base address of 0x400000.\u001b[0m\n",
      "WARNING | 2021-05-05 23:57:24,281 | \u001b[37mangr.analyses.cfg.cfg_base\u001b[0m | \u001b[37m_is_region_extremely_sparse: The given region 0x4158e0-0x4158e9 is not a continuous memory region in the memory space. Only the first 9 bytes (0x4158e0-0x4158e8) are processed.\u001b[0m\n"
     ]
    },
    {
     "name": "stdout",
     "output_type": "stream",
     "text": [
      "/bin/sed\n",
      "5878 nodes, 10635 edges\n"
     ]
    },
    {
     "name": "stderr",
     "output_type": "stream",
     "text": [
      "WARNING | 2021-05-05 23:57:43,334 | \u001b[36mcle.loader\u001b[0m | \u001b[36mThe main binary is a position-independent executable. It is being loaded with a base address of 0x400000.\u001b[0m\n",
      "WARNING | 2021-05-05 23:57:43,343 | \u001b[37mangr.analyses.cfg.cfg_base\u001b[0m | \u001b[37m_is_region_extremely_sparse: The given region 0x415e24-0x415e2d is not a continuous memory region in the memory space. Only the first 9 bytes (0x415e24-0x415e2c) are processed.\u001b[0m\n"
     ]
    },
    {
     "name": "stdout",
     "output_type": "stream",
     "text": [
      "\r",
      "/bin/sh\n"
     ]
    },
    {
     "name": "stderr",
     "output_type": "stream",
     "text": [
      "WARNING | 2021-05-05 23:57:55,188 | \u001b[34mangr.analyses.cfg.cfg_fast\u001b[0m | \u001b[34mNo CFGNode is found for function 0x40dbef in _make_return_edges().\u001b[0m\n",
      "WARNING | 2021-05-05 23:57:55,199 | \u001b[34mangr.analyses.cfg.cfg_fast\u001b[0m | \u001b[34mNo CFGNode is found for function 0x4136f1 in _make_return_edges().\u001b[0m\n"
     ]
    },
    {
     "name": "stdout",
     "output_type": "stream",
     "text": [
      "\r",
      "6351 nodes, 11912 edges\n"
     ]
    },
    {
     "name": "stderr",
     "output_type": "stream",
     "text": [
      "WARNING | 2021-05-05 23:58:00,020 | \u001b[31mcle.backends.externs\u001b[0m | \u001b[31mSymbol was allocated without a known size; emulation may fail if it is used non-opaquely: opterr\u001b[0m\n",
      "WARNING | 2021-05-05 23:58:00,021 | \u001b[36mcle.loader\u001b[0m | \u001b[36mThe main binary is a position-independent executable. It is being loaded with a base address of 0x400000.\u001b[0m\n",
      "WARNING | 2021-05-05 23:58:00,023 | \u001b[36mcle.loader\u001b[0m | \u001b[36mFor more information about \"Symbol was allocated without a known size\", see https://docs.angr.io/extending-angr/environment#simdata\u001b[0m\n",
      "WARNING | 2021-05-05 23:58:00,029 | \u001b[37mangr.analyses.cfg.cfg_base\u001b[0m | \u001b[37m_is_region_extremely_sparse: The given region 0x40c110-0x40c119 is not a continuous memory region in the memory space. Only the first 9 bytes (0x40c110-0x40c118) are processed.\u001b[0m\n"
     ]
    },
    {
     "name": "stdout",
     "output_type": "stream",
     "text": [
      "/bin/stty\n",
      "2806 nodes, 5084 edges\n"
     ]
    },
    {
     "name": "stderr",
     "output_type": "stream",
     "text": [
      "WARNING | 2021-05-05 23:58:03,355 | \u001b[36mcle.loader\u001b[0m | \u001b[36mThe main binary is a position-independent executable. It is being loaded with a base address of 0x400000.\u001b[0m\n",
      "WARNING | 2021-05-05 23:58:03,366 | \u001b[37mangr.analyses.cfg.cfg_base\u001b[0m | \u001b[37m_is_region_extremely_sparse: The given region 0x40ac40-0x40ac49 is not a continuous memory region in the memory space. Only the first 9 bytes (0x40ac40-0x40ac48) are processed.\u001b[0m\n"
     ]
    },
    {
     "name": "stdout",
     "output_type": "stream",
     "text": [
      "/bin/su\n",
      "2762 nodes, 4929 edges\n"
     ]
    },
    {
     "name": "stderr",
     "output_type": "stream",
     "text": [
      "WARNING | 2021-05-05 23:58:09,217 | \u001b[36mcle.loader\u001b[0m | \u001b[36mThe main binary is a position-independent executable. It is being loaded with a base address of 0x400000.\u001b[0m\n",
      "WARNING | 2021-05-05 23:58:09,223 | \u001b[37mangr.analyses.cfg.cfg_base\u001b[0m | \u001b[37m_is_region_extremely_sparse: The given region 0x4057c0-0x4057c9 is not a continuous memory region in the memory space. Only the first 9 bytes (0x4057c0-0x4057c8) are processed.\u001b[0m\n"
     ]
    },
    {
     "name": "stdout",
     "output_type": "stream",
     "text": [
      "\r",
      "/bin/sync\n"
     ]
    },
    {
     "name": "stderr",
     "output_type": "stream",
     "text": [
      "WARNING | 2021-05-05 23:58:10,260 | \u001b[36mcle.loader\u001b[0m | \u001b[36mThe main binary is a position-independent executable. It is being loaded with a base address of 0x400000.\u001b[0m\n",
      "WARNING | 2021-05-05 23:58:10,266 | \u001b[37mangr.analyses.cfg.cfg_base\u001b[0m | \u001b[37m_is_region_extremely_sparse: The given region 0x4052d0-0x4052d9 is not a continuous memory region in the memory space. Only the first 9 bytes (0x4052d0-0x4052d8) are processed.\u001b[0m\n"
     ]
    },
    {
     "name": "stdout",
     "output_type": "stream",
     "text": [
      "\r",
      "1119 nodes, 1831 edges\n",
      "\r",
      "/bin/true\n"
     ]
    },
    {
     "name": "stderr",
     "output_type": "stream",
     "text": [
      "WARNING | 2021-05-05 23:58:11,443 | \u001b[36mcle.loader\u001b[0m | \u001b[36mThe main binary is a position-independent executable. It is being loaded with a base address of 0x400000.\u001b[0m\n",
      "WARNING | 2021-05-05 23:58:11,450 | \u001b[37mangr.analyses.cfg.cfg_base\u001b[0m | \u001b[37m_is_region_extremely_sparse: The given region 0x405480-0x405489 is not a continuous memory region in the memory space. Only the first 9 bytes (0x405480-0x405488) are processed.\u001b[0m\n"
     ]
    },
    {
     "name": "stdout",
     "output_type": "stream",
     "text": [
      "\r",
      "1008 nodes, 1622 edges\n",
      "\r",
      "/bin/umount\n"
     ]
    },
    {
     "name": "stderr",
     "output_type": "stream",
     "text": [
      "WARNING | 2021-05-05 23:58:15,845 | \u001b[36mcle.loader\u001b[0m | \u001b[36mThe main binary is a position-independent executable. It is being loaded with a base address of 0x400000.\u001b[0m\n",
      "WARNING | 2021-05-05 23:58:15,851 | \u001b[37mangr.analyses.cfg.cfg_base\u001b[0m | \u001b[37m_is_region_extremely_sparse: The given region 0x4056c0-0x4056c9 is not a continuous memory region in the memory space. Only the first 9 bytes (0x4056c0-0x4056c8) are processed.\u001b[0m\n"
     ]
    },
    {
     "name": "stdout",
     "output_type": "stream",
     "text": [
      "973 nodes, 1616 edges\n",
      "/bin/uname\n",
      "1107 nodes, 1795 edges\n",
      "\n"
     ]
    }
   ],
   "source": [
    "\"\"\"\n",
    "collect laplacians\n",
    "\"\"\"\n",
    "\n",
    "Data = {}\n",
    "\n",
    "for uname in tqdm(utilnames):\n",
    "    path = '/bin/'+uname\n",
    "    G = get_cfg_nx(path)\n",
    "    if G:\n",
    "        c = nx.directed_laplacian_matrix(G) \n",
    "        with open('./cfgs/'+uname+'.npy', 'wb') as f:\n",
    "            np.save(f,c)\n",
    "        Data[uname] = c"
   ]
  },
  {
   "cell_type": "code",
   "execution_count": 5,
   "metadata": {},
   "outputs": [],
   "source": [
    "pickle.dump(Data, open( \"cfgs.p\", \"wb\" ) )"
   ]
  },
  {
   "cell_type": "code",
   "execution_count": 2,
   "metadata": {},
   "outputs": [],
   "source": [
    "from angrutils import *\n",
    "from graphviz import Source\n",
    "\n",
    "import bingraphvis"
   ]
  },
  {
   "cell_type": "code",
   "execution_count": 3,
   "metadata": {},
   "outputs": [
    {
     "name": "stderr",
     "output_type": "stream",
     "text": [
      "WARNING | 2021-05-06 01:19:00,887 | \u001b[36mcle.loader\u001b[0m | \u001b[36mThe main binary is a position-independent executable. It is being loaded with a base address of 0x400000.\u001b[0m\n"
     ]
    }
   ],
   "source": [
    "proj = angr.Project(\"./hello_world\", load_options={'auto_load_libs':False})\n",
    "main = proj.loader.main_object.get_symbol(\"main\")\n",
    "start_state = proj.factory.blank_state(addr=main.rebased_addr)\n",
    "cfg = proj.analyses.CFGEmulated(fail_fast=True, starts=[main.rebased_addr], initial_state=start_state)\n",
    "plot_cfg(cfg, \"hello\", format='raw', asminst=True, remove_imports=True, remove_path_terminator=True)  "
   ]
  },
  {
   "cell_type": "code",
   "execution_count": 8,
   "metadata": {},
   "outputs": [
    {
     "name": "stdout",
     "output_type": "stream",
     "text": [
      "#include <stdio.h>\r\n",
      "int main() {\r\n",
      "   // printf() displays the string inside quotation\r\n",
      "   printf(\"Hello, World!\");\r\n",
      "   int hello = 1;\r\n",
      "   if (hello == 1){\r\n",
      "   \treturn 0;\r\n",
      "   } else {\r\n",
      "\treturn 1;\r\n",
      "   }\r\n",
      "}\r\n"
     ]
    }
   ],
   "source": [
    "!cat hello_world.c"
   ]
  },
  {
   "cell_type": "code",
   "execution_count": 6,
   "metadata": {},
   "outputs": [
    {
     "data": {
      "image/svg+xml": [
       "<?xml version=\"1.0\" encoding=\"UTF-8\" standalone=\"no\"?>\n",
       "<!DOCTYPE svg PUBLIC \"-//W3C//DTD SVG 1.1//EN\"\n",
       " \"http://www.w3.org/Graphics/SVG/1.1/DTD/svg11.dtd\">\n",
       "<!-- Generated by graphviz version 2.40.1 (20161225.0304)\n",
       " -->\n",
       "<!-- Pages: 1 -->\n",
       "<svg width=\"382pt\" height=\"410pt\"\n",
       " viewBox=\"0.00 0.00 382.00 410.00\" xmlns=\"http://www.w3.org/2000/svg\" xmlns:xlink=\"http://www.w3.org/1999/xlink\">\n",
       "<g id=\"graph0\" class=\"graph\" transform=\"scale(1 1) rotate(0) translate(4 406)\">\n",
       "<polygon fill=\"#ffffff\" stroke=\"transparent\" points=\"-4,4 -4,-406 378,-406 378,4 -4,4\"/>\n",
       "<!-- 1 -->\n",
       "<g id=\"node1\" class=\"node\">\n",
       "<title>1</title>\n",
       "<path fill=\"none\" stroke=\"#000000\" d=\"M88,-292.5C88,-292.5 194,-292.5 194,-292.5 200,-292.5 206,-298.5 206,-304.5 206,-304.5 206,-316.5 206,-316.5 206,-322.5 200,-328.5 194,-328.5 194,-328.5 88,-328.5 88,-328.5 82,-328.5 76,-322.5 76,-316.5 76,-316.5 76,-304.5 76,-304.5 76,-298.5 82,-292.5 88,-292.5\"/>\n",
       "<text text-anchor=\"start\" x=\"87\" y=\"-308.1\" font-family=\"monospace\" font-size=\"8.00\" fill=\"#000000\">0x401030</text>\n",
       "<text text-anchor=\"start\" x=\"134\" y=\"-308.1\" font-family=\"monospace\" font-size=\"8.00\" fill=\"#000000\">(0x401030)</text>\n",
       "</g>\n",
       "<!-- 2 -->\n",
       "<g id=\"node7\" class=\"node\">\n",
       "<title>2</title>\n",
       "<path fill=\"#dddddd\" stroke=\"#000000\" d=\"M47,-219.5C47,-219.5 207,-219.5 207,-219.5 213,-219.5 219,-225.5 219,-231.5 219,-231.5 219,-243.5 219,-243.5 219,-249.5 213,-255.5 207,-255.5 207,-255.5 47,-255.5 47,-255.5 41,-255.5 35,-249.5 35,-243.5 35,-243.5 35,-231.5 35,-231.5 35,-225.5 41,-219.5 47,-219.5\"/>\n",
       "<text text-anchor=\"start\" x=\"46\" y=\"-235.1\" font-family=\"monospace\" font-size=\"8.00\" fill=\"#000000\">0x500008</text>\n",
       "<text text-anchor=\"start\" x=\"93\" y=\"-235.1\" font-family=\"monospace\" font-size=\"8.00\" fill=\"#000000\">(0x500008)</text>\n",
       "<text text-anchor=\"start\" x=\"150\" y=\"-236.1\" font-family=\"monospace\" font-weight=\"bold\" font-size=\"8.00\" fill=\"#000000\">printf</text>\n",
       "<text text-anchor=\"start\" x=\"186\" y=\"-235.1\" font-family=\"monospace\" font-size=\"8.00\" fill=\"#000000\">SIMP</text>\n",
       "</g>\n",
       "<!-- 1&#45;&gt;2 -->\n",
       "<g id=\"edge3\" class=\"edge\">\n",
       "<title>1&#45;&gt;2</title>\n",
       "<path fill=\"none\" stroke=\"#000000\" d=\"M137.5393,-292.4551C135.9912,-284.3828 134.1297,-274.6764 132.4047,-265.6817\"/>\n",
       "<polygon fill=\"#000000\" stroke=\"#000000\" points=\"135.7903,-264.7521 130.4694,-255.5904 128.9156,-266.0706 135.7903,-264.7521\"/>\n",
       "</g>\n",
       "<!-- 0 -->\n",
       "<g id=\"node2\" class=\"node\">\n",
       "<title>0</title>\n",
       "<path fill=\"none\" stroke=\"#000000\" d=\"M123,-365.5C123,-365.5 251,-365.5 251,-365.5 257,-365.5 263,-371.5 263,-377.5 263,-377.5 263,-389.5 263,-389.5 263,-395.5 257,-401.5 251,-401.5 251,-401.5 123,-401.5 123,-401.5 117,-401.5 111,-395.5 111,-389.5 111,-389.5 111,-377.5 111,-377.5 111,-371.5 117,-365.5 123,-365.5\"/>\n",
       "<text text-anchor=\"start\" x=\"122\" y=\"-381.1\" font-family=\"monospace\" font-size=\"8.00\" fill=\"#000000\">0x401135</text>\n",
       "<text text-anchor=\"start\" x=\"169\" y=\"-381.1\" font-family=\"monospace\" font-size=\"8.00\" fill=\"#000000\">(0x401135)</text>\n",
       "<text text-anchor=\"start\" x=\"226\" y=\"-382.1\" font-family=\"monospace\" font-weight=\"bold\" font-size=\"8.00\" fill=\"#000000\">main</text>\n",
       "</g>\n",
       "<!-- 0&#45;&gt;1 -->\n",
       "<g id=\"edge1\" class=\"edge\">\n",
       "<title>0&#45;&gt;1</title>\n",
       "<path fill=\"none\" stroke=\"#000000\" d=\"M175.6292,-365.4551C170.2662,-356.9441 163.7583,-346.6165 157.8385,-337.2219\"/>\n",
       "<polygon fill=\"#000000\" stroke=\"#000000\" points=\"160.6918,-335.1848 152.3994,-328.5904 154.7695,-338.9167 160.6918,-335.1848\"/>\n",
       "</g>\n",
       "<!-- 3 -->\n",
       "<g id=\"node3\" class=\"node\">\n",
       "<title>3</title>\n",
       "<path fill=\"none\" stroke=\"#000000\" d=\"M110,-146.5C110,-146.5 264,-146.5 264,-146.5 270,-146.5 276,-152.5 276,-158.5 276,-158.5 276,-170.5 276,-170.5 276,-176.5 270,-182.5 264,-182.5 264,-182.5 110,-182.5 110,-182.5 104,-182.5 98,-176.5 98,-170.5 98,-170.5 98,-158.5 98,-158.5 98,-152.5 104,-146.5 110,-146.5\"/>\n",
       "<text text-anchor=\"start\" x=\"109\" y=\"-162.1\" font-family=\"monospace\" font-size=\"8.00\" fill=\"#000000\">0x40114e</text>\n",
       "<text text-anchor=\"start\" x=\"156\" y=\"-162.1\" font-family=\"monospace\" font-size=\"8.00\" fill=\"#000000\">(0x401135)</text>\n",
       "<text text-anchor=\"start\" x=\"213\" y=\"-163.1\" font-family=\"monospace\" font-weight=\"bold\" font-size=\"8.00\" fill=\"#000000\">main+0x19</text>\n",
       "</g>\n",
       "<!-- 0&#45;&gt;3 -->\n",
       "<g id=\"edge2\" class=\"edge\">\n",
       "<title>0&#45;&gt;3</title>\n",
       "<path fill=\"none\" stroke=\"#c0c0c0\" stroke-dasharray=\"1,5\" d=\"M198.1316,-365.4677C215.526,-334.9148 245.4432,-271.202 228,-219 224.6228,-208.8931 218.5527,-199.1566 212.1006,-190.7792\"/>\n",
       "<polygon fill=\"#c0c0c0\" stroke=\"#c0c0c0\" points=\"214.6649,-188.3872 205.6068,-182.8916 209.2607,-192.8364 214.6649,-188.3872\"/>\n",
       "</g>\n",
       "<!-- 4 -->\n",
       "<g id=\"node4\" class=\"node\">\n",
       "<title>4</title>\n",
       "<path fill=\"none\" stroke=\"#000000\" d=\"M12,-73.5C12,-73.5 166,-73.5 166,-73.5 172,-73.5 178,-79.5 178,-85.5 178,-85.5 178,-97.5 178,-97.5 178,-103.5 172,-109.5 166,-109.5 166,-109.5 12,-109.5 12,-109.5 6,-109.5 0,-103.5 0,-97.5 0,-97.5 0,-85.5 0,-85.5 0,-79.5 6,-73.5 12,-73.5\"/>\n",
       "<text text-anchor=\"start\" x=\"11\" y=\"-89.1\" font-family=\"monospace\" font-size=\"8.00\" fill=\"#000000\">0x40115b</text>\n",
       "<text text-anchor=\"start\" x=\"58\" y=\"-89.1\" font-family=\"monospace\" font-size=\"8.00\" fill=\"#000000\">(0x401135)</text>\n",
       "<text text-anchor=\"start\" x=\"115\" y=\"-90.1\" font-family=\"monospace\" font-weight=\"bold\" font-size=\"8.00\" fill=\"#000000\">main+0x26</text>\n",
       "</g>\n",
       "<!-- 3&#45;&gt;4 -->\n",
       "<g id=\"edge5\" class=\"edge\">\n",
       "<title>3&#45;&gt;4</title>\n",
       "<path fill=\"none\" stroke=\"#000000\" d=\"M162.7753,-146.4551C150.2895,-137.1545 134.8914,-125.6844 121.398,-115.6332\"/>\n",
       "<polygon fill=\"#000000\" stroke=\"#000000\" points=\"123.3961,-112.7573 113.2857,-109.5904 119.2145,-118.371 123.3961,-112.7573\"/>\n",
       "</g>\n",
       "<!-- 5 -->\n",
       "<g id=\"node5\" class=\"node\">\n",
       "<title>5</title>\n",
       "<path fill=\"none\" stroke=\"#000000\" d=\"M208,-73.5C208,-73.5 362,-73.5 362,-73.5 368,-73.5 374,-79.5 374,-85.5 374,-85.5 374,-97.5 374,-97.5 374,-103.5 368,-109.5 362,-109.5 362,-109.5 208,-109.5 208,-109.5 202,-109.5 196,-103.5 196,-97.5 196,-97.5 196,-85.5 196,-85.5 196,-79.5 202,-73.5 208,-73.5\"/>\n",
       "<text text-anchor=\"start\" x=\"207\" y=\"-89.1\" font-family=\"monospace\" font-size=\"8.00\" fill=\"#000000\">0x401162</text>\n",
       "<text text-anchor=\"start\" x=\"254\" y=\"-89.1\" font-family=\"monospace\" font-size=\"8.00\" fill=\"#000000\">(0x401135)</text>\n",
       "<text text-anchor=\"start\" x=\"311\" y=\"-90.1\" font-family=\"monospace\" font-weight=\"bold\" font-size=\"8.00\" fill=\"#000000\">main+0x2d</text>\n",
       "</g>\n",
       "<!-- 3&#45;&gt;5 -->\n",
       "<g id=\"edge6\" class=\"edge\">\n",
       "<title>3&#45;&gt;5</title>\n",
       "<path fill=\"none\" stroke=\"#000000\" d=\"M211.2247,-146.4551C223.7105,-137.1545 239.1086,-125.6844 252.602,-115.6332\"/>\n",
       "<polygon fill=\"#000000\" stroke=\"#000000\" points=\"254.7855,-118.371 260.7143,-109.5904 250.6039,-112.7573 254.7855,-118.371\"/>\n",
       "</g>\n",
       "<!-- 6 -->\n",
       "<g id=\"node6\" class=\"node\">\n",
       "<title>6</title>\n",
       "<path fill=\"none\" stroke=\"#000000\" d=\"M12,-.5C12,-.5 166,-.5 166,-.5 172,-.5 178,-6.5 178,-12.5 178,-12.5 178,-24.5 178,-24.5 178,-30.5 172,-36.5 166,-36.5 166,-36.5 12,-36.5 12,-36.5 6,-36.5 0,-30.5 0,-24.5 0,-24.5 0,-12.5 0,-12.5 0,-6.5 6,-.5 12,-.5\"/>\n",
       "<text text-anchor=\"start\" x=\"11\" y=\"-16.1\" font-family=\"monospace\" font-size=\"8.00\" fill=\"#000000\">0x401167</text>\n",
       "<text text-anchor=\"start\" x=\"58\" y=\"-16.1\" font-family=\"monospace\" font-size=\"8.00\" fill=\"#000000\">(0x401135)</text>\n",
       "<text text-anchor=\"start\" x=\"115\" y=\"-17.1\" font-family=\"monospace\" font-weight=\"bold\" font-size=\"8.00\" fill=\"#000000\">main+0x32</text>\n",
       "</g>\n",
       "<!-- 4&#45;&gt;6 -->\n",
       "<g id=\"edge7\" class=\"edge\">\n",
       "<title>4&#45;&gt;6</title>\n",
       "<path fill=\"none\" stroke=\"#000000\" d=\"M89,-73.4551C89,-65.3828 89,-55.6764 89,-46.6817\"/>\n",
       "<polygon fill=\"#000000\" stroke=\"#000000\" points=\"92.5001,-46.5903 89,-36.5904 85.5001,-46.5904 92.5001,-46.5903\"/>\n",
       "</g>\n",
       "<!-- 2&#45;&gt;3 -->\n",
       "<g id=\"edge4\" class=\"edge\">\n",
       "<title>2&#45;&gt;3</title>\n",
       "<path fill=\"none\" stroke=\"#c0c0c0\" d=\"M141.8315,-219.4551C149.0431,-210.6809 157.8417,-199.9759 165.751,-190.353\"/>\n",
       "<polygon fill=\"#c0c0c0\" stroke=\"#c0c0c0\" points=\"168.4854,-192.5382 172.1312,-182.5904 163.0776,-188.0934 168.4854,-192.5382\"/>\n",
       "</g>\n",
       "</g>\n",
       "</svg>\n"
      ],
      "text/plain": [
       "<graphviz.files.Source at 0x7fc2417c8780>"
      ]
     },
     "execution_count": 6,
     "metadata": {},
     "output_type": "execute_result"
    }
   ],
   "source": [
    "s = Source.from_file('./hello.raw')\n",
    "s"
   ]
  },
  {
   "cell_type": "code",
   "execution_count": 13,
   "metadata": {},
   "outputs": [
    {
     "name": "stdout",
     "output_type": "stream",
     "text": [
      "<class 'pydotplus.graphviz.Dot'>\n",
      "<class 'networkx.classes.multidigraph.MultiDiGraph'>\n"
     ]
    },
    {
     "data": {
      "image/png": "[encoded data removed]",
      "text/plain": [
       "<Figure size 432x288 with 1 Axes>"
      ]
     },
     "metadata": {},
     "output_type": "display_data"
    }
   ],
   "source": [
    "import pydotplus\n",
    "\n",
    "dotplus = pydotplus.graph_from_dot_data(s.source)\n",
    "print(type(dotplus)) #  <class 'pydotplus.graphviz.Dot'>\n",
    "nx_graph = nx.nx_pydot.from_pydot(dotplus)\n",
    "print(type(nx_graph)) # <class 'networkx.classes.multidigraph.MultiDiGraph'>\n",
    "# multigraph->graph = dotplus.set_strict(true)\n",
    "nx.draw(nx_graph)"
   ]
  },
  {
   "cell_type": "code",
   "execution_count": null,
   "metadata": {},
   "outputs": [],
   "source": []
  }
 ],
 "metadata": {
  "kernelspec": {
   "display_name": "Python 3",
   "language": "python",
   "name": "python3"
  },
  "language_info": {
   "codemirror_mode": {
    "name": "ipython",
    "version": 3
   },
   "file_extension": ".py",
   "mimetype": "text/x-python",
   "name": "python",
   "nbconvert_exporter": "python",
   "pygments_lexer": "ipython3",
   "version": "3.7.3"
  }
 },
 "nbformat": 4,
 "nbformat_minor": 4
}
