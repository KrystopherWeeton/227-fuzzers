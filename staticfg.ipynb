{
  "nbformat": 4,
  "nbformat_minor": 0,
  "metadata": {
    "colab": {
      "name": "staticfg.ipynb",
      "provenance": [],
      "collapsed_sections": []
    },
    "kernelspec": {
      "name": "python3",
      "display_name": "Python 3"
    },
    "language_info": {
      "name": "python"
    }
  },
  "cells": [
    {
      "cell_type": "code",
      "metadata": {
        "colab": {
          "base_uri": "https://localhost:8080/"
        },
        "id": "blO6uJ03w3Ez",
        "outputId": "745bdc23-7b8a-4904-cd59-f6f602ca4cb9"
      },
      "source": [
        "!git clone https://github.com/coetaur0/staticfg.git\n",
        "%cd staticfg \n",
        "!pip install --upgrade .\n",
        "\n",
        "!git clone https://github.com/OmkarPathak/Python-Programs.git\n",
        "%cd Python-Programs/CompetitiveProgramming/CodeChef/\n",
        "\n",
        "!pip install angr monkeyhex"
      ],
      "execution_count": null,
      "outputs": [
        {
          "output_type": "stream",
          "text": [
            "Cloning into 'staticfg'...\n",
            "remote: Enumerating objects: 223, done.\u001b[K\n",
            "remote: Counting objects: 100% (55/55), done.\u001b[K\n",
            "remote: Compressing objects: 100% (36/36), done.\u001b[K\n",
            "remote: Total 223 (delta 22), reused 42 (delta 15), pack-reused 168\u001b[K\n",
            "Receiving objects: 100% (223/223), 105.79 KiB | 10.58 MiB/s, done.\n",
            "Resolving deltas: 100% (105/105), done.\n",
            "/content/staticfg\n",
            "Processing /content/staticfg\n",
            "Requirement already satisfied, skipping upgrade: astor in /usr/local/lib/python3.7/dist-packages (from staticfg==0.9.5) (0.8.1)\n",
            "Requirement already satisfied, skipping upgrade: graphviz in /usr/local/lib/python3.7/dist-packages (from staticfg==0.9.5) (0.10.1)\n",
            "Building wheels for collected packages: staticfg\n",
            "  Building wheel for staticfg (setup.py) ... \u001b[?25l\u001b[?25hdone\n",
            "  Created wheel for staticfg: filename=staticfg-0.9.5-cp37-none-any.whl size=12007 sha256=002564db507726b83a15b8acb44fa8156a457a500255d8e02b12ccc0539fa72c\n",
            "  Stored in directory: /tmp/pip-ephem-wheel-cache-vd0cbf1j/wheels/c9/02/dd/7e51714d8d40b9ceebe6da4e756306069e25e071b204b45117\n",
            "Successfully built staticfg\n",
            "Installing collected packages: staticfg\n",
            "Successfully installed staticfg-0.9.5\n",
            "Cloning into 'Python-Programs'...\n",
            "remote: Enumerating objects: 1543, done.\u001b[K\n",
            "remote: Counting objects: 100% (7/7), done.\u001b[K\n",
            "remote: Compressing objects: 100% (7/7), done.\u001b[K\n",
            "remote: Total 1543 (delta 2), reused 2 (delta 0), pack-reused 1536\u001b[K\n",
            "Receiving objects: 100% (1543/1543), 655.50 KiB | 24.28 MiB/s, done.\n",
            "Resolving deltas: 100% (802/802), done.\n",
            "/content/staticfg/Python-Programs/CompetitiveProgramming/CodeChef\n",
            "Collecting angr\n",
            "\u001b[?25l  Downloading https://files.pythonhosted.org/packages/8c/ea/f98bf45182da0f171241c904a2202f56b098f621590061a7986bbb55960e/angr-9.0.6885-py3-none-manylinux1_x86_64.whl (1.4MB)\n",
            "\u001b[K     |████████████████████████████████| 1.5MB 17.2MB/s \n",
            "\u001b[?25hCollecting monkeyhex\n",
            "  Downloading https://files.pythonhosted.org/packages/b0/c4/183b312bfa54637b0b08a32ae13a2ace920b526de8fca877f5d94d206368/monkeyhex-1.7.1.tar.gz\n",
            "Requirement already satisfied: cffi>=1.14.0 in /usr/local/lib/python3.7/dist-packages (from angr) (1.14.5)\n",
            "Collecting CppHeaderParser\n",
            "\u001b[?25l  Downloading https://files.pythonhosted.org/packages/3c/ba/d8d168a4b54cae66eaf13d1d9197ca9349c94653815e061f79e7eed86c01/CppHeaderParser-2.7.4.tar.gz (54kB)\n",
            "\u001b[K     |████████████████████████████████| 61kB 8.7MB/s \n",
            "\u001b[?25hCollecting unicorn==1.0.2rc4\n",
            "\u001b[?25l  Downloading https://files.pythonhosted.org/packages/fa/61/f1acd99cd7180746c4ab4be1bee3793402592435fd9a23783e7f5b7e9d99/unicorn-1.0.2rc4-py2.py3-none-manylinux1_x86_64.whl (8.1MB)\n",
            "\u001b[K     |████████████████████████████████| 8.1MB 19.0MB/s \n",
            "\u001b[?25hRequirement already satisfied: progressbar2 in /usr/local/lib/python3.7/dist-packages (from angr) (3.38.0)\n",
            "Collecting capstone>=3.0.5rc2\n",
            "\u001b[?25l  Downloading https://files.pythonhosted.org/packages/38/85/647d512c2c2e2981d6f4c70ed41c5ec3d8d6f06cc9c9dd63348e8e6a21a3/capstone-4.0.2-py2.py3-none-manylinux1_x86_64.whl (2.1MB)\n",
            "\u001b[K     |████████████████████████████████| 2.1MB 23.5MB/s \n",
            "\u001b[?25hCollecting cle==9.0.6885\n",
            "\u001b[?25l  Downloading https://files.pythonhosted.org/packages/b5/fe/387e7812a28905ae6f71c4ca2733ad6e2cba9ec998c7427dd56b6cde4eec/cle-9.0.6885-py3-none-any.whl (142kB)\n",
            "\u001b[K     |████████████████████████████████| 143kB 32.3MB/s \n",
            "\u001b[?25hRequirement already satisfied: psutil in /usr/local/lib/python3.7/dist-packages (from angr) (5.4.8)\n",
            "Collecting pyvex==9.0.6885\n",
            "\u001b[?25l  Downloading https://files.pythonhosted.org/packages/68/4a/9e3305f9f796fecd22a617842c4d183ecbf561a74f3a618cbbe7294444f5/pyvex-9.0.6885-py3-none-manylinux1_x86_64.whl (2.9MB)\n",
            "\u001b[K     |████████████████████████████████| 2.9MB 48.3MB/s \n",
            "\u001b[?25hCollecting mulpyplexer\n",
            "  Downloading https://files.pythonhosted.org/packages/d7/6f/f036d4fb9f5a511262345bb18215c70fa69a250aca2e5ffe1a9c7e4cb85c/mulpyplexer-0.09.tar.gz\n",
            "Requirement already satisfied: networkx>=2.0 in /usr/local/lib/python3.7/dist-packages (from angr) (2.5.1)\n",
            "Collecting archinfo==9.0.6885\n",
            "\u001b[?25l  Downloading https://files.pythonhosted.org/packages/6a/8a/5e504e5e9920dca7dbfe0174c839efb471a020f2fa583fa04c52e5632bd2/archinfo-9.0.6885-py3-none-any.whl (56kB)\n",
            "\u001b[K     |████████████████████████████████| 61kB 8.1MB/s \n",
            "\u001b[?25hRequirement already satisfied: sortedcontainers in /usr/local/lib/python3.7/dist-packages (from angr) (2.3.0)\n",
            "Requirement already satisfied: cachetools in /usr/local/lib/python3.7/dist-packages (from angr) (4.2.1)\n",
            "Collecting rpyc\n",
            "\u001b[?25l  Downloading https://files.pythonhosted.org/packages/e8/4c/6d456ae4319190d17e0d4cd8c1ee6b6ba9125f0bde18ef37afdb50867a39/rpyc-5.0.1-py3-none-any.whl (68kB)\n",
            "\u001b[K     |████████████████████████████████| 71kB 7.1MB/s \n",
            "\u001b[?25hCollecting ailment==9.0.6885\n",
            "  Downloading https://files.pythonhosted.org/packages/68/9b/eb15e7ef73b0ef50d42593c30d65de2adbb023653dc4f0f7c7a8a1787f1f/ailment-9.0.6885-py3-none-any.whl\n",
            "Collecting claripy==9.0.6885\n",
            "\u001b[?25l  Downloading https://files.pythonhosted.org/packages/8a/e5/6d61f021f6386a299bcf7d9426d90157065bb4ce936cffa97baa73fe3273/claripy-9.0.6885-py3-none-any.whl (152kB)\n",
            "\u001b[K     |████████████████████████████████| 153kB 51.0MB/s \n",
            "\u001b[?25hRequirement already satisfied: protobuf>=3.12.0 in /usr/local/lib/python3.7/dist-packages (from angr) (3.12.4)\n",
            "Collecting itanium-demangler\n",
            "  Downloading https://files.pythonhosted.org/packages/25/98/bd3496af11643dc9d74dc62ea3f5323b7874a08bd3aeac61927f0c029453/itanium_demangler-1.0.tar.gz\n",
            "Collecting GitPython\n",
            "\u001b[?25l  Downloading https://files.pythonhosted.org/packages/a6/99/98019716955ba243657daedd1de8f3a88ca1f5b75057c38e959db22fb87b/GitPython-3.1.14-py3-none-any.whl (159kB)\n",
            "\u001b[K     |████████████████████████████████| 163kB 42.2MB/s \n",
            "\u001b[?25hCollecting dpkt\n",
            "\u001b[?25l  Downloading https://files.pythonhosted.org/packages/2a/85/e7b648df0f07f929ab8a9f3215057f62bcfb07542405f62018e484000d77/dpkt-1.9.5-py3-none-any.whl (177kB)\n",
            "\u001b[K     |████████████████████████████████| 184kB 66.7MB/s \n",
            "\u001b[?25hRequirement already satisfied: pycparser>=2.18 in /usr/local/lib/python3.7/dist-packages (from angr) (2.20)\n",
            "Requirement already satisfied: future in /usr/local/lib/python3.7/dist-packages (from monkeyhex) (0.16.0)\n",
            "Collecting ply\n",
            "\u001b[?25l  Downloading https://files.pythonhosted.org/packages/a3/58/35da89ee790598a0700ea49b2a66594140f44dec458c07e8e3d4979137fc/ply-3.11-py2.py3-none-any.whl (49kB)\n",
            "\u001b[K     |████████████████████████████████| 51kB 7.2MB/s \n",
            "\u001b[?25hRequirement already satisfied: six in /usr/local/lib/python3.7/dist-packages (from progressbar2->angr) (1.15.0)\n",
            "Requirement already satisfied: python-utils>=2.3.0 in /usr/local/lib/python3.7/dist-packages (from progressbar2->angr) (2.5.6)\n",
            "Collecting pyelftools>=0.25\n",
            "\u001b[?25l  Downloading https://files.pythonhosted.org/packages/6f/50/3d7729d64bb23393aa4c166af250a6e6f9def40c90bf0e9af3c5ad25b6f7/pyelftools-0.27-py2.py3-none-any.whl (151kB)\n",
            "\u001b[K     |████████████████████████████████| 153kB 48.4MB/s \n",
            "\u001b[?25hCollecting pefile\n",
            "\u001b[?25l  Downloading https://files.pythonhosted.org/packages/36/58/acf7f35859d541985f0a6ea3c34baaefbfaee23642cf11e85fe36453ae77/pefile-2019.4.18.tar.gz (62kB)\n",
            "\u001b[K     |████████████████████████████████| 71kB 10.1MB/s \n",
            "\u001b[?25hCollecting bitstring\n",
            "\u001b[?25l  Downloading https://files.pythonhosted.org/packages/c3/fc/ffac2c199d2efe1ec5111f55efeb78f5f2972456df6939fea849f103f9f5/bitstring-3.1.7.tar.gz (195kB)\n",
            "\u001b[K     |████████████████████████████████| 204kB 53.5MB/s \n",
            "\u001b[?25hRequirement already satisfied: decorator<5,>=4.3 in /usr/local/lib/python3.7/dist-packages (from networkx>=2.0->angr) (4.4.2)\n",
            "Collecting plumbum\n",
            "\u001b[?25l  Downloading https://files.pythonhosted.org/packages/6c/fc/6cdaf59a001c707333869b054daf1e0df02978d261f20f8b082afcf189c3/plumbum-1.7.0-py2.py3-none-any.whl (116kB)\n",
            "\u001b[K     |████████████████████████████████| 122kB 48.6MB/s \n",
            "\u001b[?25hCollecting pysmt\n",
            "\u001b[?25l  Downloading https://files.pythonhosted.org/packages/e0/6e/69ae88f759b3739ac302ab08238f38d01266f43e82b220142835fd608dde/PySMT-0.9.0-py2.py3-none-any.whl (317kB)\n",
            "\u001b[K     |████████████████████████████████| 317kB 51.7MB/s \n",
            "\u001b[?25hCollecting z3-solver>=4.8.5.0\n",
            "\u001b[?25l  Downloading https://files.pythonhosted.org/packages/fa/ef/d972d512ac4fb56d7fb4b93dfc4dc16450b68328e359b67edd70c77f8e9b/z3_solver-4.8.10.0-py2.py3-none-manylinux1_x86_64.whl (32.6MB)\n",
            "\u001b[K     |████████████████████████████████| 32.6MB 131kB/s \n",
            "\u001b[?25hRequirement already satisfied: setuptools in /usr/local/lib/python3.7/dist-packages (from protobuf>=3.12.0->angr) (56.0.0)\n",
            "Collecting gitdb<5,>=4.0.1\n",
            "\u001b[?25l  Downloading https://files.pythonhosted.org/packages/ea/e8/f414d1a4f0bbc668ed441f74f44c116d9816833a48bf81d22b697090dba8/gitdb-4.0.7-py3-none-any.whl (63kB)\n",
            "\u001b[K     |████████████████████████████████| 71kB 10.2MB/s \n",
            "\u001b[?25hCollecting smmap<5,>=3.0.1\n",
            "  Downloading https://files.pythonhosted.org/packages/68/ee/d540eb5e5996eb81c26ceffac6ee49041d473bc5125f2aa995cf51ec1cf1/smmap-4.0.0-py2.py3-none-any.whl\n",
            "Building wheels for collected packages: monkeyhex, CppHeaderParser, mulpyplexer, itanium-demangler, pefile, bitstring\n",
            "  Building wheel for monkeyhex (setup.py) ... \u001b[?25l\u001b[?25hdone\n",
            "  Created wheel for monkeyhex: filename=monkeyhex-1.7.1-cp37-none-any.whl size=3319 sha256=6c6f80f3b900e6179f5b2b3e5cec3a049af8a9f9078e1340f88c0ccb40a0165f\n",
            "  Stored in directory: /root/.cache/pip/wheels/ee/0d/66/98980c1748f65588cfa6624058f8ceb36e3098c80999790851\n",
            "  Building wheel for CppHeaderParser (setup.py) ... \u001b[?25l\u001b[?25hdone\n",
            "  Created wheel for CppHeaderParser: filename=CppHeaderParser-2.7.4-cp37-none-any.whl size=44973 sha256=637852fb395b61564c7c534a096538c02c4c80f12727449b90f5d0be2d207c0b\n",
            "  Stored in directory: /root/.cache/pip/wheels/67/fc/2d/f9b9e6c40d59e5db861c24ba5af2e8a9f92720ea584fd4ca1d\n",
            "  Building wheel for mulpyplexer (setup.py) ... \u001b[?25l\u001b[?25hdone\n",
            "  Created wheel for mulpyplexer: filename=mulpyplexer-0.9-cp37-none-any.whl size=3789 sha256=7358b49abffd06a73df85b553c74797df358d9c7ba49fe4e979bbec0a3f1acdc\n",
            "  Stored in directory: /root/.cache/pip/wheels/cf/05/dd/95eddbe975b0bb615afecd907b33b49a7e66959f127c85c537\n",
            "  Building wheel for itanium-demangler (setup.py) ... \u001b[?25l\u001b[?25hdone\n",
            "  Created wheel for itanium-demangler: filename=itanium_demangler-1.0-cp37-none-any.whl size=7290 sha256=1d1b6950c9a97f4779cbf82a0815599c2ef1b03e7078eccb5e0e55f8872f0bda\n",
            "  Stored in directory: /root/.cache/pip/wheels/64/60/d5/92a97a13ab126a78b1d25ad01bd1a9909926c4b52c4a0581af\n",
            "  Building wheel for pefile (setup.py) ... \u001b[?25l\u001b[?25hdone\n",
            "  Created wheel for pefile: filename=pefile-2019.4.18-cp37-none-any.whl size=60821 sha256=5e2bd464ea6ebf225cbeaa2787531567083c5f8b83aafde0c311f06296550592\n",
            "  Stored in directory: /root/.cache/pip/wheels/1c/a1/95/4f33011a0c013c872fe6f0f364dc463a2588120820e40a30d8\n",
            "  Building wheel for bitstring (setup.py) ... \u001b[?25l\u001b[?25hdone\n",
            "  Created wheel for bitstring: filename=bitstring-3.1.7-cp37-none-any.whl size=37949 sha256=1b9ba96ff19cb5afd9feedfbac9906f9994d9a5355d788a2bf1354f6f4e27a8f\n",
            "  Stored in directory: /root/.cache/pip/wheels/b8/27/f0/8373e26b7de57db03dc18aaaebdd8c26a99da882416f762979\n",
            "Successfully built monkeyhex CppHeaderParser mulpyplexer itanium-demangler pefile bitstring\n",
            "Installing collected packages: ply, CppHeaderParser, unicorn, capstone, pyelftools, archinfo, bitstring, pyvex, pefile, cle, mulpyplexer, plumbum, rpyc, ailment, pysmt, z3-solver, claripy, itanium-demangler, smmap, gitdb, GitPython, dpkt, angr, monkeyhex\n",
            "Successfully installed CppHeaderParser-2.7.4 GitPython-3.1.14 ailment-9.0.6885 angr-9.0.6885 archinfo-9.0.6885 bitstring-3.1.7 capstone-4.0.2 claripy-9.0.6885 cle-9.0.6885 dpkt-1.9.5 gitdb-4.0.7 itanium-demangler-1.0 monkeyhex-1.7.1 mulpyplexer-0.9 pefile-2019.4.18 plumbum-1.7.0 ply-3.11 pyelftools-0.27 pysmt-0.9.0 pyvex-9.0.6885 rpyc-5.0.1 smmap-4.0.0 unicorn-1.0.2rc4 z3-solver-4.8.10.0\n",
            "P01_CIELAB.py\tP08_STONES.py\t P15_BUYING2.py   P22_PLZYKME.py   P39_ALATE.py\n",
            "P02_HORSES.py\tP09_ERROR.py\t P16_POTATOES.py  P23_CHEFA.py\t   P40_COINS.py\n",
            "P03_JOHNY.py\tP10_NAME2.py\t P17_ANUBTG.py\t  P24_LUCKY5.py    README.md\n",
            "P04_CONFLIP.py\tP11_DIVIDING.py  P18_LUCKYSTR.py  P35_AMSGAME1.py\n",
            "P05_CARVANS.py\tP12_MAXDIFF.py\t P19_CLEANUP.py   P36_SUBGCD.py\n",
            "P06_LAPIN.py\tP13_SPCANDY.py\t P20_MARCHA1.py   P37_NDIFFPAL.py\n",
            "P07_BUYING2.py\tP14_TOTR.py\t P21_ALEXNUMB.py  P38_PRINCESS.py\n"
          ],
          "name": "stdout"
        }
      ]
    },
    {
      "cell_type": "code",
      "metadata": {
        "id": "BbwTYec3Iavw"
      },
      "source": [
        "### angr tutorial\n",
        "\n",
        "import os\n",
        "import angr\n",
        "import monkeyhex\n",
        "from tqdm import tqdm\n",
        "\n",
        "import networkx as nx\n",
        "import scipy as sp\n",
        "import numpy as np\n",
        "\n",
        "import matplotlib.pyplot as plt\n",
        "import pprint"
      ],
      "execution_count": null,
      "outputs": []
    },
    {
      "cell_type": "code",
      "metadata": {
        "colab": {
          "base_uri": "https://localhost:8080/"
        },
        "id": "k1sSAAkTJvxA",
        "outputId": "eb1239c4-08d0-46e3-c06b-c5bb54226b69"
      },
      "source": [
        "for i, filename in enumerate(tqdm(os.listdir('/bin'))):\n",
        "  if i > 1:\n",
        "    break\n",
        "  if filename in ['ignore list']: \n",
        "    pass\n",
        "  else:  \n",
        "    path = os.path.join('/bin', filename)\n",
        "    proj = angr.Project(path,\n",
        "                        load_options={'auto_load_libs': False})\n",
        "\n",
        "    tqdm.write(proj.filename)\n",
        "    cfg = proj.analyses.CFGFast()\n",
        "    tqdm.write(\"%d nodes, %d edges\" % (len(cfg.graph.nodes()), len(cfg.graph.edges())))\n",
        "    G = cfg.graph\n"
      ],
      "execution_count": null,
      "outputs": [
        {
          "output_type": "stream",
          "text": [
            "  0%|          | 0/110 [00:00<?, ?it/s]WARNING | 2021-05-06 05:40:34,836 | \u001b[36mcle.loader\u001b[0m | \u001b[36mThe main binary is a position-independent executable. It is being loaded with a base address of 0x400000.\u001b[0m\n"
          ],
          "name": "stderr"
        },
        {
          "output_type": "stream",
          "text": [
            "login\n"
          ],
          "name": "stdout"
        },
        {
          "output_type": "stream",
          "text": [
            "  1%|          | 1/110 [00:02<05:26,  2.99s/it]WARNING | 2021-05-06 05:40:37,817 | \u001b[36mcle.loader\u001b[0m | \u001b[36mThe main binary is a position-independent executable. It is being loaded with a base address of 0x400000.\u001b[0m\n"
          ],
          "name": "stderr"
        },
        {
          "output_type": "stream",
          "text": [
            "Name: \n",
            "Type: DiGraph\n",
            "Number of nodes: 2229\n",
            "Number of edges: 4247\n",
            "Average in degree:   1.9053\n",
            "Average out degree:   1.9053\n",
            "df\n"
          ],
          "name": "stdout"
        },
        {
          "output_type": "stream",
          "text": [
            "  2%|▏         | 2/110 [00:08<08:04,  4.49s/it]"
          ],
          "name": "stderr"
        },
        {
          "output_type": "stream",
          "text": [
            "Name: \n",
            "Type: DiGraph\n",
            "Number of nodes: 4321\n",
            "Number of edges: 7547\n",
            "Average in degree:   1.7466\n",
            "Average out degree:   1.7466\n"
          ],
          "name": "stdout"
        },
        {
          "output_type": "stream",
          "text": [
            "\n"
          ],
          "name": "stderr"
        }
      ]
    },
    {
      "cell_type": "code",
      "metadata": {
        "colab": {
          "base_uri": "https://localhost:8080/"
        },
        "id": "xPvOTK-SiAz9",
        "outputId": "e4c41e06-58f7-4c1b-dd38-69e4b6932725"
      },
      "source": [
        "i = 0\n",
        "for g in nx.weakly_connected_components(cfg.graph):\n",
        "  if len(g) <= 2:\n",
        "    continue\n",
        "  print(len(g))\n",
        "  i+= 1\n",
        "  if i > 10:\n",
        "    break"
      ],
      "execution_count": null,
      "outputs": [
        {
          "output_type": "stream",
          "text": [
            "104077\n",
            "10\n",
            "4\n",
            "4\n",
            "4\n",
            "13\n",
            "23\n",
            "10\n",
            "13\n",
            "16\n",
            "33\n"
          ],
          "name": "stdout"
        }
      ]
    },
    {
      "cell_type": "code",
      "metadata": {
        "id": "CN3l-KXLnJvp"
      },
      "source": [
        "centrality = nx.eigenvector_centrality_numpy(cfg.graph)\n",
        "\n",
        "# expansion\n",
        "# d regular graph \n",
        "# random walk \n",
        "# regions where you cant escap\n",
        "# subgraph angr separate into subgraphs \n",
        "\n",
        "# degree, ev gap"
      ],
      "execution_count": null,
      "outputs": []
    },
    {
      "cell_type": "code",
      "metadata": {
        "colab": {
          "base_uri": "https://localhost:8080/"
        },
        "id": "hrZoE04ZnnU7",
        "outputId": "1a25f1fa-13fa-4838-a425-8d4471a7b75a"
      },
      "source": [
        "for n in centrality:\n",
        "  print(centrality[n])\n",
        "  break"
      ],
      "execution_count": null,
      "outputs": [
        {
          "output_type": "stream",
          "text": [
            "-2.5049062438354217e-19\n"
          ],
          "name": "stdout"
        }
      ]
    },
    {
      "cell_type": "code",
      "metadata": {
        "id": "tc6yTIn-mW9K"
      },
      "source": [
        "sp_adj = nx.convert_matrix.to_scipy_sparse_matrix(cfg.graph)"
      ],
      "execution_count": null,
      "outputs": []
    },
    {
      "cell_type": "code",
      "metadata": {
        "colab": {
          "base_uri": "https://localhost:8080/"
        },
        "id": "mDNoH-fgobG6",
        "outputId": "836a7ca1-8704-491e-ae25-edb92f82923a"
      },
      "source": [
        "type(sp_adj)"
      ],
      "execution_count": null,
      "outputs": [
        {
          "output_type": "execute_result",
          "data": {
            "text/plain": [
              "scipy.sparse.csr.csr_matrix"
            ]
          },
          "metadata": {
            "tags": []
          },
          "execution_count": 39
        }
      ]
    },
    {
      "cell_type": "code",
      "metadata": {
        "id": "hmX3QEAmmcOp"
      },
      "source": [
        "import scipy\n",
        "eig = scipy.sparse.linalg.eigs(sp_adj.asfptype(),k=100)"
      ],
      "execution_count": null,
      "outputs": []
    },
    {
      "cell_type": "code",
      "metadata": {
        "id": "unrx_LpJyR_y",
        "colab": {
          "base_uri": "https://localhost:8080/",
          "height": 894
        },
        "outputId": "d4e6d9da-767f-4c3a-e019-7bde17e1232a"
      },
      "source": [
        "from matplotlib import pyplot as plt\n",
        "plt.hist(eig[0],bins=50)"
      ],
      "execution_count": null,
      "outputs": [
        {
          "output_type": "stream",
          "text": [
            "/usr/local/lib/python3.7/dist-packages/numpy/lib/histograms.py:851: ComplexWarning: Casting complex values to real discards the imaginary part\n",
            "  indices = f_indices.astype(np.intp)\n",
            "/usr/local/lib/python3.7/dist-packages/matplotlib/transforms.py:789: ComplexWarning: Casting complex values to real discards the imaginary part\n",
            "  points = np.array(args, dtype=float).reshape(2, 2)\n",
            "/usr/local/lib/python3.7/dist-packages/matplotlib/transforms.py:1969: ComplexWarning: Casting complex values to real discards the imaginary part\n",
            "  x, y = float(x), float(y)\n"
          ],
          "name": "stderr"
        },
        {
          "output_type": "execute_result",
          "data": {
            "text/plain": [
              "(array([ 1.,  0.,  0.,  0.,  0.,  1.,  0.,  0.,  0.,  0.,  0.,  0.,  1.,\n",
              "         2.,  4.,  4.,  1.,  1.,  0.,  3.,  1.,  0.,  3.,  2.,  1.,  2.,\n",
              "         2.,  2.,  3.,  2., 23., 22.,  8.,  4.,  3.,  1.,  0.,  1.,  0.,\n",
              "         0.,  0.,  0.,  0.,  0.,  0.,  0.,  0.,  0.,  1.,  1.]),\n",
              " array([-3.19459615-5.80341029j, -2.99201776-5.68734209j,\n",
              "        -2.78943937-5.57127388j, -2.58686099-5.45520568j,\n",
              "        -2.3842826 -5.33913747j, -2.18170421-5.22306926j,\n",
              "        -1.97912582-5.10700106j, -1.77654743-4.99093285j,\n",
              "        -1.57396904-4.87486465j, -1.37139065-4.75879644j,\n",
              "        -1.16881226-4.64272823j, -0.96623387-4.52666003j,\n",
              "        -0.76365548-4.41059182j, -0.56107709-4.29452362j,\n",
              "        -0.35849871-4.17845541j, -0.15592032-4.06238721j,\n",
              "         0.04665807-3.946319j  ,  0.24923646-3.83025079j,\n",
              "         0.45181485-3.71418259j,  0.65439324-3.59811438j,\n",
              "         0.85697163-3.48204618j,  1.05955002-3.36597797j,\n",
              "         1.26212841-3.24990976j,  1.4647068 -3.13384156j,\n",
              "         1.66728518-3.01777335j,  1.86986357-2.90170515j,\n",
              "         2.07244196-2.78563694j,  2.27502035-2.66956873j,\n",
              "         2.47759874-2.55350053j,  2.68017713-2.43743232j,\n",
              "         2.88275552-2.32136412j,  3.08533391-2.20529591j,\n",
              "         3.2879123 -2.08922771j,  3.49049069-1.9731595j ,\n",
              "         3.69306907-1.85709129j,  3.89564746-1.74102309j,\n",
              "         4.09822585-1.62495488j,  4.30080424-1.50888668j,\n",
              "         4.50338263-1.39281847j,  4.70596102-1.27675026j,\n",
              "         4.90853941-1.16068206j,  5.1111178 -1.04461385j,\n",
              "         5.31369619-0.92854565j,  5.51627458-0.81247744j,\n",
              "         5.71885296-0.69640924j,  5.92143135-0.58034103j,\n",
              "         6.12400974-0.46427282j,  6.32658813-0.34820462j,\n",
              "         6.52916652-0.23213641j,  6.73174491-0.11606821j,\n",
              "         6.9343233 +0.j        ]),\n",
              " <a list of 50 Patch objects>)"
            ]
          },
          "metadata": {
            "tags": []
          },
          "execution_count": 50
        },
        {
          "output_type": "display_data",
          "data": {
            "image/png": "[encoded data removed]",
            "text/plain": [
              "<Figure size 432x288 with 1 Axes>"
            ]
          },
          "metadata": {
            "tags": [],
            "needs_background": "light"
          }
        }
      ]
    },
    {
      "cell_type": "code",
      "metadata": {
        "colab": {
          "base_uri": "https://localhost:8080/"
        },
        "id": "W7L_OS1h-Q3e",
        "outputId": "3e1077b9-1f88-4711-aadf-f252dd5604f3"
      },
      "source": [
        "import os\n",
        "from staticfg import CFGBuilder\n",
        "directory = os.fsencode('./')\n",
        "\n",
        "graphs = []\n",
        "fnames = []\n",
        "for filename in os.listdir(directory):\n",
        "    fnamestr = str(filename,'utf-8')\n",
        "    if fnamestr.endswith(\".py\"): \n",
        "      try:\n",
        "        cfg = CFGBuilder().build_from_file(fnamestr, fnamestr)\n",
        "      except:\n",
        "        continue\n",
        "      fnames.append(fnamestr)\n",
        "      graphs.append(cfg2nx(cfg, fnamestr))\n",
        "len(graphs)"
      ],
      "execution_count": null,
      "outputs": [
        {
          "output_type": "execute_result",
          "data": {
            "text/plain": [
              "16"
            ]
          },
          "metadata": {
            "tags": []
          },
          "execution_count": 103
        }
      ]
    },
    {
      "cell_type": "code",
      "metadata": {
        "colab": {
          "base_uri": "https://localhost:8080/",
          "height": 333
        },
        "id": "PbwcyHTt1jj-",
        "outputId": "efc49e0b-0876-4496-b4a0-a61d35146a29"
      },
      "source": [
        "import matplotlib.pyplot as plt\n",
        "import pprint\n",
        "pp = pprint.PrettyPrinter(indent=4)\n",
        "\n",
        "idx = 1\n",
        "G = graphs[idx]\n",
        "print(fnames[idx])\n",
        "\n",
        "pos = nx.spring_layout(G)\n",
        "labels = nx.get_node_attributes(G, 'str')\n",
        "pp.pprint(labels)\n",
        "\n",
        "nx.draw_networkx_nodes(G, pos, cmap=plt.get_cmap('jet'))\n",
        "nx.draw_networkx_labels(G, pos)\n",
        "nx.draw_networkx_edges(G, pos, arrows=True)\n",
        "plt.show()"
      ],
      "execution_count": null,
      "outputs": [
        {
          "output_type": "stream",
          "text": [
            "P37_NDIFFPAL.py\n",
            "{   1: 'block:1@47',\n",
            "    2: 'link from block:1@47 to block:2@48',\n",
            "    4: 'link from block:2@48 to block:4@51',\n",
            "    6: 'link from block:2@48 to block:6@53'}\n"
          ],
          "name": "stdout"
        },
        {
          "output_type": "display_data",
          "data": {
            "image/png": "[encoded data removed]",
            "text/plain": [
              "<Figure size 432x288 with 1 Axes>"
            ]
          },
          "metadata": {
            "tags": []
          }
        }
      ]
    },
    {
      "cell_type": "code",
      "metadata": {
        "colab": {
          "base_uri": "https://localhost:8080/"
        },
        "id": "ljS67OiB1khW",
        "outputId": "d378393d-287d-4bd1-a62a-0b3deaf19623"
      },
      "source": [
        "# get some statistics\n",
        "\n",
        "for i,g in enumerate(graphs):\n",
        "  print(nx.info(g))\n",
        "  print()"
      ],
      "execution_count": null,
      "outputs": [
        {
          "output_type": "stream",
          "text": [
            "Name: P09_ERROR.py\n",
            "Type: DiGraph\n",
            "Number of nodes: 6\n",
            "Number of edges: 4\n",
            "Average in degree:   0.6667\n",
            "Average out degree:   0.6667\n",
            "\n",
            "Name: P37_NDIFFPAL.py\n",
            "Type: DiGraph\n",
            "Number of nodes: 5\n",
            "Number of edges: 3\n",
            "Average in degree:   0.6000\n",
            "Average out degree:   0.6000\n",
            "\n",
            "Name: P04_CONFLIP.py\n",
            "Type: DiGraph\n",
            "Number of nodes: 10\n",
            "Number of edges: 8\n",
            "Average in degree:   0.8000\n",
            "Average out degree:   0.8000\n",
            "\n",
            "Name: P13_SPCANDY.py\n",
            "Type: DiGraph\n",
            "Number of nodes: 6\n",
            "Number of edges: 4\n",
            "Average in degree:   0.6667\n",
            "Average out degree:   0.6667\n",
            "\n",
            "Name: P22_PLZYKME.py\n",
            "Type: DiGraph\n",
            "Number of nodes: 8\n",
            "Number of edges: 6\n",
            "Average in degree:   0.7500\n",
            "Average out degree:   0.7500\n",
            "\n",
            "Name: P01_CIELAB.py\n",
            "Type: DiGraph\n",
            "Number of nodes: 5\n",
            "Number of edges: 3\n",
            "Average in degree:   0.6000\n",
            "Average out degree:   0.6000\n",
            "\n",
            "Name: P16_POTATOES.py\n",
            "Type: DiGraph\n",
            "Number of nodes: 14\n",
            "Number of edges: 10\n",
            "Average in degree:   0.7143\n",
            "Average out degree:   0.7143\n",
            "\n",
            "Name: P21_ALEXNUMB.py\n",
            "Type: DiGraph\n",
            "Number of nodes: 4\n",
            "Number of edges: 2\n",
            "Average in degree:   0.5000\n",
            "Average out degree:   0.5000\n",
            "\n",
            "Name: P10_NAME2.py\n",
            "Type: DiGraph\n",
            "Number of nodes: 13\n",
            "Number of edges: 11\n",
            "Average in degree:   0.8462\n",
            "Average out degree:   0.8462\n",
            "\n",
            "Name: P08_STONES.py\n",
            "Type: DiGraph\n",
            "Number of nodes: 8\n",
            "Number of edges: 6\n",
            "Average in degree:   0.7500\n",
            "Average out degree:   0.7500\n",
            "\n",
            "Name: P06_LAPIN.py\n",
            "Type: DiGraph\n",
            "Number of nodes: 10\n",
            "Number of edges: 8\n",
            "Average in degree:   0.8000\n",
            "Average out degree:   0.8000\n",
            "\n",
            "Name: P38_PRINCESS.py\n",
            "Type: DiGraph\n",
            "Number of nodes: 14\n",
            "Number of edges: 11\n",
            "Average in degree:   0.7857\n",
            "Average out degree:   0.7857\n",
            "\n",
            "Name: P20_MARCHA1.py\n",
            "Type: DiGraph\n",
            "Number of nodes: 13\n",
            "Number of edges: 10\n",
            "Average in degree:   0.7692\n",
            "Average out degree:   0.7692\n",
            "\n",
            "Name: P40_COINS.py\n",
            "Type: DiGraph\n",
            "Number of nodes: 12\n",
            "Number of edges: 9\n",
            "Average in degree:   0.7500\n",
            "Average out degree:   0.7500\n",
            "\n",
            "Name: P03_JOHNY.py\n",
            "Type: DiGraph\n",
            "Number of nodes: 7\n",
            "Number of edges: 5\n",
            "Average in degree:   0.7143\n",
            "Average out degree:   0.7143\n",
            "\n",
            "Name: P18_LUCKYSTR.py\n",
            "Type: DiGraph\n",
            "Number of nodes: 14\n",
            "Number of edges: 12\n",
            "Average in degree:   0.8571\n",
            "Average out degree:   0.8571\n",
            "\n"
          ],
          "name": "stdout"
        }
      ]
    },
    {
      "cell_type": "code",
      "metadata": {
        "id": "d_aLxKtEAFn4"
      },
      "source": [
        ""
      ],
      "execution_count": null,
      "outputs": []
    }
  ]
}